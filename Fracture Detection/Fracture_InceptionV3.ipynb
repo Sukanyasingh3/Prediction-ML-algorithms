{
  "cells": [
    {
      "cell_type": "code",
      "execution_count": 15,
      "metadata": {
        "id": "Lh-0YEY-zsqO"
      },
      "outputs": [],
      "source": [
        "!mkdir -p ~/.kaggle\n",
        "!cp kaggle.json ~/.kaggle/"
      ]
    },
    {
      "cell_type": "code",
      "execution_count": 16,
      "metadata": {
        "id": "jwZ32SflMoll"
      },
      "outputs": [],
      "source": [
        "import tensorflow as tf\n",
        "from tensorflow import keras\n",
        "from keras import Sequential\n",
        "from keras import layers\n",
        "from keras.layers import Dense,Conv2D,MaxPooling2D,Flatten,BatchNormalization,Dropout,AveragePooling2D\n",
        "from keras.layers import Activation, Dropout, Flatten, Dense, GaussianNoise, GlobalMaxPooling2D\n",
        "import tensorflow as tf\n",
        "import matplotlib.pyplot as plt\n",
        "import numpy as np\n",
        "import cv2"
      ]
    },
    {
      "cell_type": "code",
      "execution_count": 17,
      "metadata": {
        "colab": {
          "base_uri": "https://localhost:8080/"
        },
        "id": "n9ZDW4-Mz7Of",
        "outputId": "969acad6-73bf-40e4-c92d-f501cba2b9c2"
      },
      "outputs": [
        {
          "output_type": "stream",
          "name": "stdout",
          "text": [
            "Warning: Your Kaggle API key is readable by other users on this system! To fix this, you can run 'chmod 600 /root/.kaggle/kaggle.json'\n",
            "bone-fracture-detection-using-xrays.zip: Skipping, found more recently modified local copy (use --force to force download)\n",
            "Warning: Your Kaggle API key is readable by other users on this system! To fix this, you can run 'chmod 600 /root/.kaggle/kaggle.json'\n",
            "bone-fracture-detection-using-xrays.zip: Skipping, found more recently modified local copy (use --force to force download)\n"
          ]
        }
      ],
      "source": [
        "#Downloading dataset\n",
        "!kaggle datasets download -d vuppalaadithyasairam/bone-fracture-detection-using-xrays"
      ]
    },
    {
      "cell_type": "code",
      "execution_count": 18,
      "metadata": {
        "id": "PaxO7oAXz-a0"
      },
      "outputs": [],
      "source": [
        "import zipfile\n",
        "zip_ref = zipfile.ZipFile('/content/bone-fracture-detection-using-xrays.zip', 'r')\n",
        "zip_ref.extractall('/content')\n",
        "zip_ref.close()"
      ]
    },
    {
      "cell_type": "code",
      "execution_count": 19,
      "metadata": {
        "colab": {
          "base_uri": "https://localhost:8080/"
        },
        "id": "_eyE3rRc0EMF",
        "outputId": "5e67e171-8a73-4471-9c68-c9657e25b9cf"
      },
      "outputs": [
        {
          "output_type": "stream",
          "name": "stdout",
          "text": [
            "Found 8863 files belonging to 2 classes.\n",
            "Found 600 files belonging to 2 classes.\n",
            "Found 8863 files belonging to 2 classes.\n",
            "Found 600 files belonging to 2 classes.\n"
          ]
        }
      ],
      "source": [
        "#Loading the images\n",
        "x_train= keras.utils.image_dataset_from_directory(\n",
        "    directory = '/content/archive (6)/train',\n",
        "    labels='inferred',\n",
        "    label_mode = 'int',\n",
        "    batch_size=100,\n",
        "    image_size=(256,256)\n",
        ")\n",
        "\n",
        "x_test= keras.utils.image_dataset_from_directory(\n",
        "    directory = '/content/archive (6)/val',\n",
        "    labels='inferred',\n",
        "    label_mode = 'int',\n",
        "    batch_size=100,\n",
        "    image_size=(256,256)\n",
        ")"
      ]
    },
    {
      "cell_type": "code",
      "execution_count": 20,
      "metadata": {
        "colab": {
          "base_uri": "https://localhost:8080/"
        },
        "id": "wQQii809Omh_",
        "outputId": "58e7901e-8835-44fd-8521-6b6a2b602b5e"
      },
      "outputs": [
        {
          "output_type": "execute_result",
          "data": {
            "text/plain": [
              "['fractured', 'not fractured']"
            ]
          },
          "metadata": {},
          "execution_count": 6
        },
        {
          "output_type": "execute_result",
          "data": {
            "text/plain": [
              "['fractured', 'not fractured']"
            ]
          },
          "metadata": {},
          "execution_count": 20
        }
      ],
      "source": [
        "class_names = x_train.class_names\n",
        "class_names"
      ]
    },
    {
      "cell_type": "code",
      "execution_count": 21,
      "metadata": {
        "id": "gxMa58Y-0PwT"
      },
      "outputs": [],
      "source": [
        "# Normalizing\n",
        "def process(image,label):\n",
        "    image = tf.cast(image/255. ,tf.float32)\n",
        "    return image,label\n",
        "\n",
        "x_train = x_train.map(process)\n",
        "x_test = x_test.map(process)"
      ]
    },
    {
      "cell_type": "code",
      "execution_count": 22,
      "metadata": {
        "id": "EYo4lIl2M6aO"
      },
      "outputs": [],
      "source": [
        "input = (256, 256, 3)"
      ]
    },
    {
      "cell_type": "code",
      "execution_count": 23,
      "metadata": {
        "id": "_VC8ejjSDS7_"
      },
      "outputs": [],
      "source": [
        "from tensorflow.keras.applications import InceptionV3\n",
        "from tensorflow.keras import layers\n",
        "from tensorflow.keras import Model"
      ]
    },
    {
      "cell_type": "code",
      "source": [
        "# Creating the base model\n",
        "base_model = InceptionV3(weights='imagenet', include_top=False)\n",
        "\n",
        "for layer in base_model.layers:\n",
        "    layer.trainable = False"
      ],
      "metadata": {
        "id": "aokDAOdo3wL1"
      },
      "execution_count": 24,
      "outputs": []
    },
    {
      "cell_type": "code",
      "source": [
        "x = base_model.output\n",
        "x = layers.GlobalAveragePooling2D()(x)\n",
        "x = layers.Dense(1024, activation='relu')(x)\n",
        "x = layers.Dropout(0.25)(x)\n",
        "predictions = layers.Dense(1, activation='sigmoid')(x)"
      ],
      "metadata": {
        "id": "o9aHiZvU31R7"
      },
      "execution_count": 25,
      "outputs": []
    },
    {
      "cell_type": "code",
      "source": [
        "model = Model(inputs=base_model.input, outputs=predictions)"
      ],
      "metadata": {
        "id": "NR80KaqN34GU"
      },
      "execution_count": 26,
      "outputs": []
    },
    {
      "cell_type": "code",
      "execution_count": 27,
      "metadata": {
        "id": "r2RfYW9a0ih2"
      },
      "outputs": [],
      "source": [
        "model.compile(optimizer=\"adam\", loss=\"binary_crossentropy\", metrics=[\"accuracy\"])"
      ]
    },
    {
      "cell_type": "code",
      "execution_count": 29,
      "metadata": {
        "colab": {
          "base_uri": "https://localhost:8080/"
        },
        "id": "HHBFNFHCtzLu",
        "outputId": "d84c3908-71db-47c3-b943-f24c91757536"
      },
      "outputs": [
        {
          "output_type": "stream",
          "name": "stdout",
          "text": [
            "Epoch 1/5\n",
            "89/89 [==============================] - 30s 317ms/step - loss: 0.0196 - accuracy: 0.9966 - val_loss: 0.8665 - val_accuracy: 0.7417\n",
            "Epoch 2/5\n",
            "89/89 [==============================] - 33s 354ms/step - loss: 0.0134 - accuracy: 0.9991 - val_loss: 0.7943 - val_accuracy: 0.7667\n",
            "Epoch 3/5\n",
            "89/89 [==============================] - 30s 321ms/step - loss: 0.0102 - accuracy: 0.9991 - val_loss: 0.8247 - val_accuracy: 0.7700\n",
            "Epoch 4/5\n",
            "89/89 [==============================] - 30s 324ms/step - loss: 0.0101 - accuracy: 0.9985 - val_loss: 0.9258 - val_accuracy: 0.7417\n",
            "Epoch 5/5\n",
            "89/89 [==============================] - 31s 323ms/step - loss: 0.0075 - accuracy: 0.9997 - val_loss: 0.8785 - val_accuracy: 0.7567\n"
          ]
        }
      ],
      "source": [
        "history = model.fit(x_train,epochs=5, batch_size=100, validation_data=x_test)"
      ]
    }
  ],
  "metadata": {
    "accelerator": "GPU",
    "colab": {
      "provenance": [],
      "gpuType": "T4"
    },
    "kernelspec": {
      "display_name": "Python 3",
      "name": "python3"
    },
    "language_info": {
      "name": "python"
    }
  },
  "nbformat": 4,
  "nbformat_minor": 0
}